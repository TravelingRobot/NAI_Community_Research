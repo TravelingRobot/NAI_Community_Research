{
 "cells": [
  {
   "cell_type": "code",
   "execution_count": 361,
   "id": "015f2b64",
   "metadata": {},
   "outputs": [],
   "source": [
    "import pandas as pd\n",
    "import numpy as np\n",
    "import matplotlib.pyplot as plt\n",
    "import matplotlib.ticker as mtick\n",
    "from sklearn.model_selection import cross_validate, KFold\n",
    "from sklearn.linear_model import LogisticRegression as logreg\n",
    "from sklearn import metrics\n",
    "import statsmodels.formula.api as smf\n",
    "\n",
    "# Read in data of the GSheet document\n",
    "fb_df = pd.read_csv(\n",
    "    'https://docs.google.com/spreadsheets/d/1cAMMzW1KnxfjL0ViRZfjwT1lpGFIS-iBcYCnau6cJ4o/export?format=csv&gid=2017981703')"
   ]
  },
  {
   "cell_type": "code",
   "execution_count": 362,
   "id": "1ac9ca4f",
   "metadata": {
    "scrolled": true
   },
   "outputs": [],
   "source": [
    "fb_df[\"Steps\"] = pd.to_numeric(\n",
    "    fb_df[\"Steps\"].replace({\"1,000\": 1000, \"2,000\": 2000}))\n",
    "fb_df[\"good_or_better\"] = fb_df[\"Rating_1_to_5\"].apply(\n",
    "    lambda x: 1 if x >= 4 else 0)\n",
    "fb_df[\"poor_or_worse\"] = fb_df[\"Rating_1_to_5\"].apply(\n",
    "    lambda x: 1 if x <= 2 else 0)"
   ]
  },
  {
   "cell_type": "code",
   "execution_count": 363,
   "id": "91a911d8",
   "metadata": {
    "scrolled": true
   },
   "outputs": [
    {
     "data": {
      "image/png": "[encoded data removed]",
      "text/plain": [
       "<Figure size 432x288 with 1 Axes>"
      ]
     },
     "metadata": {},
     "output_type": "display_data"
    }
   ],
   "source": [
    "%matplotlib inline\n",
    "plt.style.use('fivethirtyeight')\n",
    "\n",
    "rating_per_steps = pd.crosstab(\n",
    "    fb_df[\"Steps\"], fb_df[\"Rating_1_to_5\"], normalize=\"index\")\n",
    "color_map_dict = {1: \"tab:red\", 2: \"tab:orange\",\n",
    "                  3: \"tab:gray\", 4: \"tab:cyan\", 5: \"tab:blue\"}\n",
    "ax = rating_per_steps.plot.bar(stacked=True, color=color_map_dict, fontsize=14)\n",
    "\n",
    "box = ax.get_position()\n",
    "\n",
    "handles, labels = ax.get_legend_handles_labels()\n",
    "ax.legend(handles=handles[::-1], labels=[\"5 - Great\", \"4 - Good\",\n",
    "                                         \"3 - meh\", \"2 - Poor\", \"1 - Garbage\"], loc=(1.04, 0), fontsize=14)\n",
    "\n",
    "plt.xticks(rotation=0)\n",
    "\n",
    "plt.grid(False)\n",
    "\n",
    "ax.yaxis.set_major_formatter(mtick.PercentFormatter(1.0))\n",
    "\n",
    "plt.savefig(\"rating_per_steps.png\", bbox_inches=\"tight\")\n",
    "plt.show()"
   ]
  },
  {
   "cell_type": "code",
   "execution_count": 364,
   "id": "4ae35c0a",
   "metadata": {},
   "outputs": [
    {
     "name": "stdout",
     "output_type": "stream",
     "text": [
      "Model performance for linear model predicting good or better output:\n",
      "negative log loss:-0.4496\n",
      "\n",
      "Model performance for quadratic model predicting good or better output:\n",
      "negative log loss:-0.5176\n",
      "\n",
      "Model performance for cubic model predicting good or better output:\n",
      "negative log loss:-0.4950\n",
      "\n",
      "Model performance for quartic model predicting good or better output:\n",
      "negative log loss:-0.5450\n",
      "\n",
      "Model performance for quintic model predicting good or better output:\n",
      "negative log loss:-0.6240\n",
      "\n"
     ]
    }
   ],
   "source": [
    "# Setting up k-fold cross validation\n",
    "\n",
    "kf = KFold(10, shuffle=True, random_state=42)\n",
    "\n",
    "# Defining predictors for models\n",
    "fb_df[\"Steps_cent\"] = fb_df[\"Steps\"].apply(\n",
    "    lambda x: x-fb_df[\"Steps\"].mean())  # centering\n",
    "\n",
    "fb_df[\"Steps_cent**2\"] = fb_df[\"Steps_cent\"]*fb_df[\"Steps_cent\"]\n",
    "fb_df[\"Steps_cent**3\"] = fb_df[\"Steps_cent\"]**3\n",
    "fb_df[\"Steps_cent**4\"] = fb_df[\"Steps_cent\"]**4\n",
    "fb_df[\"Steps_cent**5\"] = fb_df[\"Steps_cent\"]**5\n",
    "\n",
    "log_model = logreg()\n",
    "\n",
    "pred_li = [(\"linear\", \"Steps_cent\"), (\"quadratic\", \"Steps_cent**2\"),\n",
    "           (\"cubic\", \"Steps_cent**3\"), (\"quartic\", \"Steps_cent**4\"),\n",
    "           (\"quintic\", \"Steps_cent**5\")]\n",
    "\n",
    "current_preds_col = []\n",
    "\n",
    "for pred in pred_li:\n",
    "    current_preds_col.append(pred[1])\n",
    "    x = fb_df.loc[:, current_preds_col]\n",
    "    y = fb_df[\"good_or_better\"]\n",
    "    current_model_name = pred[0]\n",
    "\n",
    "    cross_val = cross_validate(log_model, x, y,\n",
    "                               scoring=[\"neg_log_loss\"], cv=kf)\n",
    "    nll = cross_val[\"test_neg_log_loss\"]\n",
    "    avg_nll = np.mean(nll)\n",
    "    print(\"Model performance for {} model predicting good or better output:\".format(\n",
    "        current_model_name))\n",
    "    print(\"negative log loss:{:.4f}\\n\".format(avg_nll))\n",
    "\n",
    "# linear model performs best"
   ]
  },
  {
   "cell_type": "code",
   "execution_count": 365,
   "id": "a41eac0f",
   "metadata": {},
   "outputs": [
    {
     "name": "stdout",
     "output_type": "stream",
     "text": [
      "Model performance for linear model predicting good or better output:\n",
      "negative log loss:-0.6627\n",
      "\n",
      "Model performance for quadratic model predicting good or better output:\n",
      "negative log loss:-0.6460\n",
      "\n",
      "Model performance for cubic model predicting good or better output:\n",
      "negative log loss:-0.6433\n",
      "\n",
      "Model performance for quartic model predicting good or better output:\n",
      "negative log loss:-0.6480\n",
      "\n",
      "Model performance for quintic model predicting good or better output:\n",
      "negative log loss:-0.6765\n",
      "\n"
     ]
    }
   ],
   "source": [
    "current_preds_col = []\n",
    "\n",
    "for pred in pred_li:\n",
    "    current_preds_col.append(pred[1])\n",
    "    x = fb_df.loc[:, current_preds_col]\n",
    "    y = fb_df[\"poor_or_worse\"]\n",
    "    current_model_name = pred[0]\n",
    "\n",
    "    cross_val = cross_validate(log_model, x, y,\n",
    "                               scoring=[\"neg_log_loss\"], cv=kf)\n",
    "    nll = cross_val[\"test_neg_log_loss\"]\n",
    "    avg_nll = np.mean(nll)\n",
    "    print(\"Model performance for {} model predicting good or better output:\".format(\n",
    "        current_model_name))\n",
    "    print(\"negative log loss:{:.4f}\\n\".format(avg_nll))\n",
    "\n",
    "# cubic model performs best"
   ]
  },
  {
   "cell_type": "code",
   "execution_count": 366,
   "id": "c4b217a6",
   "metadata": {
    "scrolled": true
   },
   "outputs": [
    {
     "name": "stdout",
     "output_type": "stream",
     "text": [
      "Optimization terminated successfully.\n",
      "         Current function value: 0.446564\n",
      "         Iterations 6\n",
      "                           Logit Regression Results                           \n",
      "==============================================================================\n",
      "Dep. Variable:         good_or_better   No. Observations:                  362\n",
      "Model:                          Logit   Df Residuals:                      360\n",
      "Method:                           MLE   Df Model:                            1\n",
      "Date:                Mon, 28 Feb 2022   Pseudo R-squ.:                 0.02475\n",
      "Time:                        12:49:48   Log-Likelihood:                -161.66\n",
      "converged:                       True   LL-Null:                       -165.76\n",
      "Covariance Type:            nonrobust   LLR p-value:                  0.004180\n",
      "==============================================================================\n",
      "                 coef    std err          z      P>|z|      [0.025      0.975]\n",
      "------------------------------------------------------------------------------\n",
      "Intercept     -1.6217      0.145    -11.220      0.000      -1.905      -1.338\n",
      "Steps_cent     0.0006      0.000      2.940      0.003       0.000       0.001\n",
      "==============================================================================\n"
     ]
    }
   ],
   "source": [
    "log_reg_good = smf.logit(\"good_or_better ~ Steps_cent\", data=fb_df).fit()\n",
    "\n",
    "print(log_reg_good.summary())"
   ]
  },
  {
   "cell_type": "code",
   "execution_count": 367,
   "id": "6d4cd48c",
   "metadata": {
    "scrolled": true
   },
   "outputs": [
    {
     "name": "stdout",
     "output_type": "stream",
     "text": [
      "Optimization terminated successfully.\n",
      "         Current function value: 0.629059\n",
      "         Iterations 5\n",
      "                           Logit Regression Results                           \n",
      "==============================================================================\n",
      "Dep. Variable:          poor_or_worse   No. Observations:                  362\n",
      "Model:                          Logit   Df Residuals:                      358\n",
      "Method:                           MLE   Df Model:                            3\n",
      "Date:                Mon, 28 Feb 2022   Pseudo R-squ.:                 0.08731\n",
      "Time:                        12:49:48   Log-Likelihood:                -227.72\n",
      "converged:                       True   LL-Null:                       -249.50\n",
      "Covariance Type:            nonrobust   LLR p-value:                 1.865e-09\n",
      "======================================================================================\n",
      "                         coef    std err          z      P>|z|      [0.025      0.975]\n",
      "--------------------------------------------------------------------------------------\n",
      "Intercept             -0.3745      0.170     -2.202      0.028      -0.708      -0.041\n",
      "Steps_cent            -0.0007      0.001     -1.095      0.274      -0.002       0.001\n",
      "I(Steps_cent ** 2)  3.959e-06   1.19e-06      3.337      0.001    1.63e-06    6.28e-06\n",
      "I(Steps_cent ** 3) -2.748e-09   1.14e-09     -2.414      0.016   -4.98e-09   -5.17e-10\n",
      "======================================================================================\n"
     ]
    }
   ],
   "source": [
    "log_reg_poor = smf.logit(\n",
    "    \"poor_or_worse ~ Steps_cent + I(Steps_cent**2) + I(Steps_cent**3)\", data=fb_df).fit()\n",
    "\n",
    "print(log_reg_poor.summary())"
   ]
  },
  {
   "cell_type": "code",
   "execution_count": 368,
   "id": "8ce4148c",
   "metadata": {
    "scrolled": false
   },
   "outputs": [
    {
     "name": "stdout",
     "output_type": "stream",
     "text": [
      "    Steps  Pred. prob.: Good+  Pred. prob.: Poor-\n",
      "0   100.0            0.120151            0.876380\n",
      "1   200.0            0.126952            0.772831\n",
      "2   300.0            0.134081            0.656956\n",
      "3   400.0            0.141544            0.554351\n",
      "4   500.0            0.149352            0.478365\n",
      "5   600.0            0.157511            0.430133\n",
      "6   700.0            0.166028            0.405557\n",
      "7   800.0            0.174911            0.399811\n",
      "8   900.0            0.184164            0.408673\n",
      "9  1000.0            0.193792            0.428380\n"
     ]
    }
   ],
   "source": [
    "# Dataframe for displaying main effect of TFS only\n",
    "steps_plot_values = np.arange(100, 2000, 100)\n",
    "\n",
    "pred_df = pd.DataFrame()\n",
    "\n",
    "for steps_val in steps_plot_values:\n",
    "    # The regression used centered values so we need to transform steps_val as well\n",
    "    steps_val_cent = steps_val - fb_df[\"Steps\"].mean()\n",
    "    steps_val_cent2 = steps_val_cent**2\n",
    "    steps_val_cent3 = steps_val_cent**3\n",
    "\n",
    "    current_pred_dict = (\n",
    "        {\"const\": 1, \"Steps\": steps_val, \"Steps_cent\": steps_val_cent,\n",
    "         \"Steps_cent2\": steps_val_cent2, \"Steps_cent3\": steps_val_cent3})\n",
    "    pred_df = pred_df.append(current_pred_dict, ignore_index=True)\n",
    "\n",
    "# Add predicted values to table constructed above\n",
    "pred_df[\"Pred. prob.: Good+\"] = log_reg_good.predict(\n",
    "    pred_df[[\"const\", \"Steps_cent\"]])\n",
    "pred_df[\"Pred. prob.: Poor-\"] = log_reg_poor.predict(\n",
    "    pred_df[[\"const\", \"Steps_cent\", \"Steps_cent2\", \"Steps_cent3\"]])\n",
    "\n",
    "print(pred_df[[\"Steps\", \"Pred. prob.: Good+\", \"Pred. prob.: Poor-\"]].head(10))"
   ]
  },
  {
   "cell_type": "code",
   "execution_count": 405,
   "id": "292a2390",
   "metadata": {
    "scrolled": true
   },
   "outputs": [
    {
     "data": {
      "image/png": "[encoded data removed]",
      "text/plain": [
       "<Figure size 504x504 with 1 Axes>"
      ]
     },
     "metadata": {},
     "output_type": "display_data"
    }
   ],
   "source": [
    "# create the figure and axes\n",
    "fig, ax = plt.subplots(figsize=(7, 7))\n",
    "\n",
    "pred_plot = sns.regplot(data=pred_df, y=\"Pred. prob.: Poor-\",\n",
    "                                x=\"Steps\", lowess=True, scatter=False, ax=ax, label = \"Poor or worse\", color=\"tab:red\")\n",
    "pred_plot = sns.regplot(data=pred_df, y=\"Pred. prob.: Good+\",\n",
    "                                x=\"Steps\", lowess=False, scatter=False, ax=ax, label = \"Good or better\", color=\"tab:blue\")\n",
    "\n",
    "\n",
    "plt.grid(False)\n",
    "plt.xlim(100, 2000)\n",
    "plt.ylim(0,1.0)\n",
    "plt.ylabel(\"Probability for Rating\")\n",
    "ax.legend(fontsize=18)\n",
    "ax.yaxis.set_major_formatter(mtick.PercentFormatter(1.0))\n",
    "\n",
    "ax.xaxis.label.set_fontsize(20)\n",
    "ax.yaxis.label.set_fontsize(20)\n",
    "plt.xticks(fontsize=14)\n",
    "plt.yticks(fontsize=14)\n",
    "plt.show()"
   ]
  },
  {
   "cell_type": "code",
   "execution_count": null,
   "id": "67f1b393",
   "metadata": {},
   "outputs": [],
   "source": [
    "tokenprobs_dict = {\n",
    "    \"Steps\": [125,]\n",
    "    \"Trolls\": [0]\n",
    "    \"Humans\": [8.13,]\n",
    "    \"Elves\": [5.05,]\n",
    "    \"Goblins\": [1.51,]\n",
    "}"
   ]
  }
 ],
 "metadata": {
  "kernelspec": {
   "display_name": "Python 3 (ipykernel)",
   "language": "python",
   "name": "python3"
  },
  "language_info": {
   "codemirror_mode": {
    "name": "ipython",
    "version": 3
   },
   "file_extension": ".py",
   "mimetype": "text/x-python",
   "name": "python",
   "nbconvert_exporter": "python",
   "pygments_lexer": "ipython3",
   "version": "3.8.10"
  },
  "toc": {
   "base_numbering": 1,
   "nav_menu": {},
   "number_sections": false,
   "sideBar": true,
   "skip_h1_title": false,
   "title_cell": "Table of Contents",
   "title_sidebar": "Contents",
   "toc_cell": false,
   "toc_position": {},
   "toc_section_display": true,
   "toc_window_display": false
  },
  "varInspector": {
   "cols": {
    "lenName": 16,
    "lenType": 16,
    "lenVar": 40
   },
   "kernels_config": {
    "python": {
     "delete_cmd_postfix": "",
     "delete_cmd_prefix": "del ",
     "library": "var_list.py",
     "varRefreshCmd": "print(var_dic_list())"
    },
    "r": {
     "delete_cmd_postfix": ") ",
     "delete_cmd_prefix": "rm(",
     "library": "var_list.r",
     "varRefreshCmd": "cat(var_dic_list()) "
    }
   },
   "types_to_exclude": [
    "module",
    "function",
    "builtin_function_or_method",
    "instance",
    "_Feature"
   ],
   "window_display": false
  }
 },
 "nbformat": 4,
 "nbformat_minor": 5
}
